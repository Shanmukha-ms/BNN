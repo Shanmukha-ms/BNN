{
 "cells": [
  {
   "cell_type": "code",
   "execution_count": 93,
   "metadata": {},
   "outputs": [],
   "source": [
    "# libraries\n",
    "import torch\n",
    "import torch.nn as nn\n",
    "import torchvision\n",
    "import torchvision.transforms as transforms"
   ]
  },
  {
   "cell_type": "code",
   "execution_count": 94,
   "metadata": {},
   "outputs": [],
   "source": [
    "# Device configuration\n",
    "# device = torch.device('cuda' if torch.cuda.is_available() else 'cpu')\n",
    "device = torch.device('mps' if torch.backends.mps.is_available() else 'cpu')"
   ]
  },
  {
   "cell_type": "code",
   "execution_count": 95,
   "metadata": {},
   "outputs": [],
   "source": [
    "# Hyper-parameters\n",
    "input_size = 784 # 28x28 images\n",
    "hidden_size = 500\n",
    "num_classes = 10\n",
    "num_epochs = 5\n",
    "batch_size = 100\n",
    "learning_rate = 0.001"
   ]
  },
  {
   "cell_type": "code",
   "execution_count": 96,
   "metadata": {},
   "outputs": [],
   "source": [
    "# MNIST dataset\n",
    "train_dataset = torchvision.datasets.MNIST(root='./data/',\n",
    "                                           train=True,\n",
    "                                           transform=transforms.ToTensor(),\n",
    "                                           download=True)\n",
    "\n",
    "test_dataset = torchvision.datasets.MNIST(root='./data/',\n",
    "                                            train=False,\n",
    "                                            transform=transforms.ToTensor())\n"
   ]
  },
  {
   "cell_type": "code",
   "execution_count": 97,
   "metadata": {},
   "outputs": [],
   "source": [
    "# Data loader\n",
    "train_loader = torch.utils.data.DataLoader(dataset=train_dataset,\n",
    "                                           batch_size=batch_size,\n",
    "                                           shuffle=True)\n",
    "\n",
    "test_loader = torch.utils.data.DataLoader(dataset=test_dataset,\n",
    "                                            batch_size=batch_size,\n",
    "                                            shuffle=False)\n"
   ]
  },
  {
   "cell_type": "code",
   "execution_count": 98,
   "metadata": {},
   "outputs": [],
   "source": [
    "def binarize(tensor):\n",
    "    return tensor.sign()\n",
    "\n",
    "class BinarizeLinear(nn.Linear):\n",
    "    def __init__(self, in_features, out_features):\n",
    "        super(BinarizeLinear, self).__init__(in_features, out_features)\n",
    "\n",
    "    def forward(self, input):\n",
    "        # input * weight\n",
    "        \n",
    "        # binarize input\n",
    "        input.data = binarize(input.data)\n",
    "\n",
    "        # binarize weight\n",
    "        if not hasattr(self.weight, 'org'):\n",
    "            self.weight.org = self.weight.data.clone()\n",
    "            \n",
    "        self.weight.data = binarize(self.weight.org)\n",
    "\n",
    "        res = nn.functional.linear(input, self.weight)\n",
    "\n",
    "        return res"
   ]
  },
  {
   "cell_type": "code",
   "execution_count": 99,
   "metadata": {},
   "outputs": [],
   "source": [
    "# Neural Network Model\n",
    "class NeuralNet(nn.Module):\n",
    "    def __init__(self, input_size, hidden_size, num_classes):\n",
    "        super(NeuralNet, self).__init__()\n",
    "        self.l1 = nn.Linear(input_size, hidden_size)\n",
    "        self.bn1 = nn.BatchNorm1d(hidden_size)\n",
    "        self.htanh1 = nn.Hardtanh()\n",
    "\n",
    "        self.l2 = BinarizeLinear(hidden_size, 400)\n",
    "        self.bn2 = nn.BatchNorm1d(400)\n",
    "        self.htanh2 = nn.Hardtanh()\n",
    "\n",
    "        self.l3 = BinarizeLinear(400, 300)\n",
    "        self.bn3 = nn.BatchNorm1d(300)\n",
    "        self.htanh3 = nn.Hardtanh()\n",
    "\n",
    "        self.l4 = nn.Linear(300, num_classes)\n",
    "\n",
    "    def forward(self, x):\n",
    "        out = self.l1(x)\n",
    "        out = self.bn1(out)\n",
    "        out = self.htanh1(out)\n",
    "\n",
    "        out = self.l2(out)\n",
    "        out = self.bn2(out)\n",
    "        out = self.htanh2(out)\n",
    "\n",
    "        out = self.l3(out)\n",
    "        out = self.bn3(out)\n",
    "        out = self.htanh3(out)\n",
    "\n",
    "        out = self.l4(out)\n",
    "        return out\n",
    "    \n",
    "    "
   ]
  },
  {
   "cell_type": "code",
   "execution_count": 100,
   "metadata": {},
   "outputs": [],
   "source": [
    "# Model, loss function and optimizer\n",
    "model = NeuralNet(input_size, hidden_size, num_classes).to(device)\n",
    "\n",
    "# Loss and optimizer\n",
    "criterion = nn.CrossEntropyLoss()\n",
    "optimizer = torch.optim.Adam(model.parameters(), lr=learning_rate)"
   ]
  },
  {
   "cell_type": "code",
   "execution_count": 101,
   "metadata": {},
   "outputs": [
    {
     "name": "stdout",
     "output_type": "stream",
     "text": [
      "Epoch [1/5], Step [100/600], Loss: 0.1832\n",
      "Epoch [1/5], Step [200/600], Loss: 0.3248\n",
      "Epoch [1/5], Step [300/600], Loss: 0.1494\n",
      "Epoch [1/5], Step [400/600], Loss: 0.1810\n",
      "Epoch [1/5], Step [500/600], Loss: 0.0477\n",
      "Epoch [1/5], Step [600/600], Loss: 0.2220\n",
      "Epoch [2/5], Step [100/600], Loss: 0.1475\n",
      "Epoch [2/5], Step [200/600], Loss: 0.0303\n",
      "Epoch [2/5], Step [300/600], Loss: 0.2174\n",
      "Epoch [2/5], Step [400/600], Loss: 0.0974\n",
      "Epoch [2/5], Step [500/600], Loss: 0.2284\n",
      "Epoch [2/5], Step [600/600], Loss: 0.1868\n",
      "Epoch [3/5], Step [100/600], Loss: 0.1199\n",
      "Epoch [3/5], Step [200/600], Loss: 0.1014\n",
      "Epoch [3/5], Step [300/600], Loss: 0.1771\n",
      "Epoch [3/5], Step [400/600], Loss: 0.1383\n",
      "Epoch [3/5], Step [500/600], Loss: 0.0918\n",
      "Epoch [3/5], Step [600/600], Loss: 0.0848\n",
      "Epoch [4/5], Step [100/600], Loss: 0.0864\n",
      "Epoch [4/5], Step [200/600], Loss: 0.0569\n",
      "Epoch [4/5], Step [300/600], Loss: 0.0880\n",
      "Epoch [4/5], Step [400/600], Loss: 0.1625\n",
      "Epoch [4/5], Step [500/600], Loss: 0.0347\n",
      "Epoch [4/5], Step [600/600], Loss: 0.0447\n",
      "Epoch [5/5], Step [100/600], Loss: 0.0289\n",
      "Epoch [5/5], Step [200/600], Loss: 0.0508\n",
      "Epoch [5/5], Step [300/600], Loss: 0.0578\n",
      "Epoch [5/5], Step [400/600], Loss: 0.0391\n",
      "Epoch [5/5], Step [500/600], Loss: 0.0130\n",
      "Epoch [5/5], Step [600/600], Loss: 0.2115\n"
     ]
    }
   ],
   "source": [
    "# Train the model\n",
    "\n",
    "model.train()\n",
    "\n",
    "for epoch in range(num_epochs):\n",
    "    for i, (images, labels) in enumerate(train_loader):\n",
    "        images = images.reshape(-1, 28*28).to(device)\n",
    "        labels = labels.to(device)\n",
    "\n",
    "        # Forward pass\n",
    "        outputs = model(images)\n",
    "        loss = criterion(outputs, labels)\n",
    "\n",
    "        # Backward and optimize\n",
    "        optimizer.zero_grad()\n",
    "        loss.backward()\n",
    "        # optimizer.step() -> this leads to error\n",
    "        \n",
    "        # Straight through estimator -> this is used to update the weights before binarizing them\n",
    "        for p in list(model.parameters()):\n",
    "            if hasattr(p, 'org'):\n",
    "                p.data.copy_(p.org)\n",
    "        \n",
    "        optimizer.step()\n",
    "\n",
    "        for p in list(model.parameters()):\n",
    "            if hasattr(p, 'org'):\n",
    "                p.org.copy_(p.data.clamp_(-1, 1))\n",
    "\n",
    "        if (i+1) % 100 == 0:\n",
    "            print ('Epoch [{}/{}], Step [{}/{}], Loss: {:.4f}'\n",
    "                   .format(epoch+1, num_epochs, i+1, len(train_loader), loss.item()))\n",
    "\n"
   ]
  },
  {
   "cell_type": "code",
   "execution_count": 102,
   "metadata": {},
   "outputs": [
    {
     "name": "stdout",
     "output_type": "stream",
     "text": [
      "Accuracy of the network on the 10000 test images: 97.14 %\n"
     ]
    }
   ],
   "source": [
    "# test the model\n",
    "model.eval()\n",
    "\n",
    "with torch.no_grad():\n",
    "    correct = 0\n",
    "    total = 0\n",
    "    for images, labels in test_loader:\n",
    "        images = images.reshape(-1, 28*28).to(device)\n",
    "        labels = labels.to(device)\n",
    "        outputs = model(images)\n",
    "        _, predicted = torch.max(outputs.data, 1)\n",
    "        total += labels.size(0)\n",
    "        correct += (predicted == labels).sum().item()\n",
    "\n",
    "    print('Accuracy of the network on the 10000 test images: {} %'.format(100 * correct / total))"
   ]
  }
 ],
 "metadata": {
  "kernelspec": {
   "display_name": ".venv",
   "language": "python",
   "name": "python3"
  },
  "language_info": {
   "codemirror_mode": {
    "name": "ipython",
    "version": 3
   },
   "file_extension": ".py",
   "mimetype": "text/x-python",
   "name": "python",
   "nbconvert_exporter": "python",
   "pygments_lexer": "ipython3",
   "version": "3.12.2"
  }
 },
 "nbformat": 4,
 "nbformat_minor": 2
}
